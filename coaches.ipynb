{
 "cells": [
  {
   "cell_type": "markdown",
   "id": "a5f33052-7668-4c31-9f81-a7208bcd1fa5",
   "metadata": {},
   "source": [
    "# Pipeline: Coach Awards"
   ]
  },
  {
   "cell_type": "code",
   "execution_count": 1,
   "id": "09aa8de0-d0b9-430b-a8d8-2b048d459cae",
   "metadata": {},
   "outputs": [],
   "source": [
    "from pyspark.sql import SparkSession\n",
    "from pyspark import SparkConf\n",
    "from pyspark.sql.window import Window\n",
    "from pyspark.sql.functions import col, desc, when, dense_rank\n",
    "\n",
    "sparkConf = SparkConf()\n",
    "sparkConf.setMaster(\"spark://spark-master:7077\")\n",
    "sparkConf.setAppName(\"CoachesApp\")\n",
    "sparkConf.set(\"spark.driver.memory\", \"2g\")\n",
    "sparkConf.set(\"spark.executor.cores\", \"1\")\n",
    "sparkConf.set(\"spark.driver.cores\", \"1\")\n",
    "\n",
    "# create the spark session, which is the entry point to Spark SQL engine.\n",
    "spark = SparkSession.builder.config(conf=sparkConf).getOrCreate()\n",
    "\n",
    "# Setup hadoop fs configuration for schema gs://\n",
    "conf = spark.sparkContext._jsc.hadoopConfiguration()\n",
    "conf.set(\"fs.gs.impl\", \"com.google.cloud.hadoop.fs.gcs.GoogleHadoopFileSystem\")\n",
    "conf.set(\"fs.AbstractFileSystem.gs.impl\", \"com.google.cloud.hadoop.fs.gcs.GoogleHadoopFS\")"
   ]
  },
  {
   "cell_type": "markdown",
   "id": "b37db9f8-3d33-45ca-8952-41bdb2989827",
   "metadata": {},
   "source": [
    "### Prepare Teams Table"
   ]
  },
  {
   "cell_type": "code",
   "execution_count": 2,
   "id": "6388cf82-46b0-4c25-90c5-e318524db4d7",
   "metadata": {},
   "outputs": [],
   "source": [
    "# Load the teams table\n",
    "teams = spark.read.format(\"csv\").option(\"header\", \"true\").load(\"gs://data_de2023_qjsol/Teams.csv\") #  use your gcp bucket name. \n",
    "\n",
    "# Only keep columns of interest\n",
    "teams = teams.select(\"year\", \"lgID\", \"tmID\", \"name\", \"Pts\", \"W\", \"SoW\")\n",
    "teams.na.drop(subset = [\"year\", \"lgID\", \"tmID\", \"name\", \"Pts\", \"W\"]) # we allow NULL values in SoW as these indicate SoW = 0\n",
    "\n",
    "# Replace NULL with 0 in SoW\n",
    "teams = teams.fillna(\"0\", \"SoW\")"
   ]
  },
  {
   "cell_type": "code",
   "execution_count": 3,
   "id": "b1f8629b-d3dc-4587-98ef-ea5bcd499118",
   "metadata": {},
   "outputs": [
    {
     "name": "stdout",
     "output_type": "stream",
     "text": [
      "+----+----+----+--------------------+---+---+---+\n",
      "|year|lgID|tmID|                name|Pts|  W|SoW|\n",
      "+----+----+----+--------------------+---+---+---+\n",
      "|1909| NHA| COB| Cobalt Silver Kings|  8|  4|  0|\n",
      "|1909| NHA| HAI|Haileybury Hockey...|  8|  4|  0|\n",
      "|1909| NHA| LES|       Les Canadiens|  4|  2|  0|\n",
      "|1909| NHA| MOS|  Montreal Shamrocks|  7|  3|  0|\n",
      "|1909| NHA| MOW|  Montreal Wanderers| 22| 11|  0|\n",
      "|1909| NHA| OT1|     Ottawa Senators| 18|  9|  0|\n",
      "|1909| NHA| REN|Renfrew Creamery ...| 17|  8|  0|\n",
      "|1910| NHA| MOC|  Montreal Canadiens| 16|  8|  0|\n",
      "|1910| NHA| MOW|  Montreal Wanderers| 14|  7|  0|\n",
      "|1910| NHA| OT1|     Ottawa Senators| 26| 13|  0|\n",
      "|1910| NHA| QU1|     Quebec Bulldogs|  8|  4|  0|\n",
      "|1910| NHA| REN|Renfrew Creamery ...| 16|  8|  0|\n",
      "|1911| NHA| MOC|  Montreal Canadiens| 16|  8|  0|\n",
      "|1911| NHA| MOW|  Montreal Wanderers| 18|  9|  0|\n",
      "|1911| NHA| OT1|     Ottawa Senators| 18|  9|  0|\n",
      "|1911| NHA| QU1|     Quebec Bulldogs| 20| 10|  0|\n",
      "|1911|PCHA| NWR|New Westminster R...| 18|  9|  0|\n",
      "|1911|PCHA| VA1|Victoria Aristocrats| 14|  7|  0|\n",
      "|1911|PCHA| VML|Vancouver Million...| 14|  7|  0|\n",
      "|1912| NHA| MOC|  Montreal Canadiens| 18|  9|  0|\n",
      "+----+----+----+--------------------+---+---+---+\n",
      "only showing top 20 rows\n",
      "\n",
      "+-------------------+----+--------+\n",
      "|               name|tmID|count(1)|\n",
      "+-------------------+----+--------+\n",
      "|Chicago Black Hawks| CHI|      60|\n",
      "| Chicago Blackhawks| CHI|      25|\n",
      "+-------------------+----+--------+\n",
      "\n"
     ]
    }
   ],
   "source": [
    "# There is a spelling error in the team names.\n",
    "# We noticed that 'Chicago Blackhawks' and 'Chicago Black Hawks' are mapped to the same team ID.\n",
    "teams.createOrReplaceTempView(\"teams\")\n",
    "teams.show()\n",
    "\n",
    "# SQL query to display that 'Chicago Blackhawks' and 'Chicago Black Hawks' are mapped to the same team ID.\n",
    "team_names = spark.sql(\"\"\"\n",
    "    SELECT name, tmID, COUNT(*) FROM teams\n",
    "    WHERE name = 'Chicago Blackhawks' OR name = 'Chicago Black Hawks'\n",
    "    GROUP BY name, tmID\n",
    "\"\"\")\n",
    "team_names.show()\n",
    "\n",
    "# Resolve spelling error in team name\n",
    "teams = teams.withColumn('name', when(col('name') == 'Chicago Blackhawks', 'Chicago Black Hawks').otherwise(col('name')))"
   ]
  },
  {
   "cell_type": "code",
   "execution_count": 4,
   "id": "dd1e2afc-834d-4a5b-8533-003c52e3eac1",
   "metadata": {},
   "outputs": [
    {
     "name": "stdout",
     "output_type": "stream",
     "text": [
      "root\n",
      " |-- year: string (nullable = true)\n",
      " |-- lgID: string (nullable = true)\n",
      " |-- tmID: string (nullable = true)\n",
      " |-- name: string (nullable = true)\n",
      " |-- Pts: string (nullable = true)\n",
      " |-- W: string (nullable = true)\n",
      " |-- SoW: string (nullable = false)\n",
      "\n",
      "root\n",
      " |-- year: integer (nullable = true)\n",
      " |-- lgID: string (nullable = true)\n",
      " |-- tmID: string (nullable = true)\n",
      " |-- name: string (nullable = true)\n",
      " |-- Pts: integer (nullable = true)\n",
      " |-- W: integer (nullable = true)\n",
      " |-- SoW: integer (nullable = true)\n",
      "\n",
      "+----+----+----+--------------------+---+---+---+\n",
      "|year|lgID|tmID|                name|Pts|  W|SoW|\n",
      "+----+----+----+--------------------+---+---+---+\n",
      "|1909| NHA| COB| Cobalt Silver Kings|  8|  4|  0|\n",
      "|1909| NHA| HAI|Haileybury Hockey...|  8|  4|  0|\n",
      "|1909| NHA| LES|       Les Canadiens|  4|  2|  0|\n",
      "|1909| NHA| MOS|  Montreal Shamrocks|  7|  3|  0|\n",
      "|1909| NHA| MOW|  Montreal Wanderers| 22| 11|  0|\n",
      "+----+----+----+--------------------+---+---+---+\n",
      "only showing top 5 rows\n",
      "\n"
     ]
    }
   ],
   "source": [
    "# Show schema\n",
    "teams.printSchema()\n",
    "\n",
    "# Convert year, points, wins and  rank from string to integer type\n",
    "teams = teams.withColumn(\"year\", col(\"year\").cast(\"int\")) \\\n",
    "             .withColumn(\"Pts\", col(\"Pts\").cast(\"int\")) \\\n",
    "             .withColumn(\"W\", col(\"W\").cast(\"int\")) \\\n",
    "             .withColumn(\"SoW\", col(\"SoW\").cast(\"int\"))\n",
    "\n",
    "# Show new schema and top 5 rows\n",
    "teams.printSchema()\n",
    "teams.show(5)"
   ]
  },
  {
   "cell_type": "markdown",
   "id": "257b1c4a-9512-4f3a-bc82-c2d56232fa29",
   "metadata": {},
   "source": [
    "### Prepare Coaches Table"
   ]
  },
  {
   "cell_type": "code",
   "execution_count": 5,
   "id": "f9a2937e-d3a8-45a5-a44e-a367b95b4acd",
   "metadata": {},
   "outputs": [
    {
     "name": "stdout",
     "output_type": "stream",
     "text": [
      "root\n",
      " |-- coachID: string (nullable = true)\n",
      " |-- year: string (nullable = true)\n",
      " |-- tmID: string (nullable = true)\n",
      "\n",
      "root\n",
      " |-- coachID: string (nullable = true)\n",
      " |-- year: integer (nullable = true)\n",
      " |-- tmID: string (nullable = true)\n",
      "\n",
      "+---------+----+----+\n",
      "|  coachID|year|tmID|\n",
      "+---------+----+----+\n",
      "|abelsi01c|1952| CHI|\n",
      "|abelsi01c|1953| CHI|\n",
      "|abelsi01c|1957| DET|\n",
      "|abelsi01c|1958| DET|\n",
      "|abelsi01c|1959| DET|\n",
      "+---------+----+----+\n",
      "only showing top 5 rows\n",
      "\n"
     ]
    }
   ],
   "source": [
    "# Load the coaches table\n",
    "coaches = spark.read.format(\"csv\").option(\"header\", \"true\").load(\"gs://data_de2023_qjsol/Coaches.csv\") #  use your gcp bucket name. \n",
    "\n",
    "# Only keep columns of interest\n",
    "coaches = coaches.select(\"coachID\", \"year\", \"tmID\")\n",
    "coaches.na.drop(\"any\")\n",
    "\n",
    "# Show schema\n",
    "coaches.printSchema()\n",
    "\n",
    "# Convert year from string to integer type\n",
    "coaches = coaches.withColumn(\"year\", col(\"year\").cast(\"int\"))\n",
    "\n",
    "# Show new schema and top 5 rows\n",
    "coaches.printSchema()\n",
    "coaches.show(5)"
   ]
  },
  {
   "cell_type": "markdown",
   "id": "5c71bd70-a901-4d53-98ca-aa402569a40e",
   "metadata": {},
   "source": [
    "### Prepare AwardsCoaches Table"
   ]
  },
  {
   "cell_type": "code",
   "execution_count": 6,
   "id": "4d535ecd-d6d7-47d4-a0ee-8e07695d795f",
   "metadata": {},
   "outputs": [
    {
     "name": "stdout",
     "output_type": "stream",
     "text": [
      "root\n",
      " |-- coachID: string (nullable = true)\n",
      " |-- award: string (nullable = true)\n",
      " |-- year: string (nullable = true)\n",
      "\n",
      "root\n",
      " |-- award_coachID: string (nullable = true)\n",
      " |-- award: string (nullable = true)\n",
      " |-- award_year: integer (nullable = true)\n",
      "\n",
      "+-------------+--------------------+----------+\n",
      "|award_coachID|               award|award_year|\n",
      "+-------------+--------------------+----------+\n",
      "|   patrile01c| First Team All-Star|      1930|\n",
      "|   irvindi01c|Second Team All-Star|      1930|\n",
      "|   patrile01c| First Team All-Star|      1931|\n",
      "|   irvindi01c|Second Team All-Star|      1931|\n",
      "|   patrile01c| First Team All-Star|      1932|\n",
      "+-------------+--------------------+----------+\n",
      "only showing top 5 rows\n",
      "\n"
     ]
    }
   ],
   "source": [
    "# Load the awards coaches table\n",
    "awards = spark.read.format(\"csv\").option(\"header\", \"true\").load(\"gs://data_de2023_qjsol/AwardsCoaches.csv\") #  use your gcp bucket name. \n",
    "\n",
    "# Only keep columns of interest\n",
    "awards = awards.select(\"coachID\", \"award\", \"year\")\n",
    "awards.na.drop(\"any\")\n",
    "\n",
    "# Show schema\n",
    "awards.printSchema()\n",
    "\n",
    "# Rename columns for clarity\n",
    "awards = awards.withColumnRenamed(\"year\", \"award_year\")\n",
    "awards = awards.withColumnRenamed(\"coachID\", \"award_coachID\")\n",
    "\n",
    "# Convert award_year from string to integer type\n",
    "awards = awards.withColumn(\"award_year\", col(\"award_year\").cast(\"int\"))\n",
    "\n",
    "# Show new schema and top 5 rows\n",
    "awards.printSchema()\n",
    "awards.show(5)"
   ]
  },
  {
   "cell_type": "markdown",
   "id": "e6eb4a8f-7b2b-455a-8cb1-8333faedfb20",
   "metadata": {},
   "source": [
    "### Select NHL team statistics from 1931 onwards"
   ]
  },
  {
   "cell_type": "code",
   "execution_count": 7,
   "id": "6f0bae93-e532-4fe7-bc0f-b8c27e9dfc63",
   "metadata": {},
   "outputs": [
    {
     "name": "stdout",
     "output_type": "stream",
     "text": [
      "+----+----+------------------+---+---+---+\n",
      "|year|tmID|              name|Pts|  W|SoW|\n",
      "+----+----+------------------+---+---+---+\n",
      "|1917| MTL|Montreal Canadiens| 26| 13|  0|\n",
      "|1917| MTW|Montreal Wanderers|  2|  1|  0|\n",
      "|1917| OTS|   Ottawa Senators| 18|  9|  0|\n",
      "|1917| TOA|    Toronto Arenas| 26| 13|  0|\n",
      "|1918| MTL|Montreal Canadiens| 20| 10|  0|\n",
      "+----+----+------------------+---+---+---+\n",
      "only showing top 5 rows\n",
      "\n"
     ]
    }
   ],
   "source": [
    "# Select teams of National Hockey League (NHL)\n",
    "nhl_teams = teams.filter(teams['lgID'] == 'NHL').drop('lgID')\n",
    "nhl_teams.show(5)\n",
    "\n",
    "# Only keep teams with year => 1931 (because awards were only given from 1931 onwards)\n",
    "teams_1931 = nhl_teams.filter(nhl_teams['year'] >= 1931)"
   ]
  },
  {
   "cell_type": "markdown",
   "id": "4e243f6b-ace2-4742-8909-ed7569d1001a",
   "metadata": {},
   "source": [
    "### Compute ROW"
   ]
  },
  {
   "cell_type": "code",
   "execution_count": 8,
   "id": "7f5c5799-c9d2-422c-920e-c7ffc197cb65",
   "metadata": {},
   "outputs": [
    {
     "name": "stdout",
     "output_type": "stream",
     "text": [
      "+----+----+-------------------+---+---+\n",
      "|year|tmID|               name|Pts|ROW|\n",
      "+----+----+-------------------+---+---+\n",
      "|1931| BOS|      Boston Bruins| 42| 15|\n",
      "|1931| CHI|Chicago Black Hawks| 47| 18|\n",
      "|1931| DTF|    Detroit Falcons| 46| 18|\n",
      "|1931| MTL| Montreal Canadiens| 57| 25|\n",
      "|1931| MTM|   Montreal Maroons| 45| 19|\n",
      "|1931| NYA| New York Americans| 40| 16|\n",
      "|1931| NYR|   New York Rangers| 54| 23|\n",
      "|1931| TOR|Toronto Maple Leafs| 53| 23|\n",
      "|1932| BOS|      Boston Bruins| 58| 25|\n",
      "|1932| CHI|Chicago Black Hawks| 44| 16|\n",
      "|1932| DET|  Detroit Red Wings| 58| 25|\n",
      "|1932| MTL| Montreal Canadiens| 41| 18|\n",
      "|1932| MTM|   Montreal Maroons| 50| 22|\n",
      "|1932| NYA| New York Americans| 41| 15|\n",
      "|1932| NYR|   New York Rangers| 54| 23|\n",
      "|1932| OTS|    Ottawa Senators| 32| 11|\n",
      "|1932| TOR|Toronto Maple Leafs| 54| 24|\n",
      "|1933| BOS|      Boston Bruins| 41| 18|\n",
      "|1933| CHI|Chicago Black Hawks| 51| 20|\n",
      "|1933| DET|  Detroit Red Wings| 58| 24|\n",
      "+----+----+-------------------+---+---+\n",
      "only showing top 20 rows\n",
      "\n"
     ]
    }
   ],
   "source": [
    "# Compute ROW\n",
    "# The ROW subtracts the number of wins a team secures through the shootout from their overall total. \n",
    "# It is then used as a tiebreaker between two teams tied in the standings. \n",
    "# The team who has a higher ROW, will be placed higher in the standings.\n",
    "teams_1931 = teams_1931.withColumn(\"ROW\", col(\"W\") - col(\"SoW\")).drop(\"W\").drop(\"SoW\")\n",
    "teams_1931.show()"
   ]
  },
  {
   "cell_type": "markdown",
   "id": "18279972-60fd-455b-bb37-0334c48abbd5",
   "metadata": {},
   "source": [
    "### Extract top 3 teams per year"
   ]
  },
  {
   "cell_type": "code",
   "execution_count": 9,
   "id": "c4e55915-7e5f-4975-a919-66b0634c5032",
   "metadata": {},
   "outputs": [
    {
     "name": "stdout",
     "output_type": "stream",
     "text": [
      "+----+----+-------------------+---+---+----------+\n",
      "|year|tmID|               name|Pts|ROW|dense_rank|\n",
      "+----+----+-------------------+---+---+----------+\n",
      "|1931| MTL| Montreal Canadiens| 57| 25|         1|\n",
      "|1931| NYR|   New York Rangers| 54| 23|         2|\n",
      "|1931| TOR|Toronto Maple Leafs| 53| 23|         3|\n",
      "|1932| BOS|      Boston Bruins| 58| 25|         1|\n",
      "|1932| DET|  Detroit Red Wings| 58| 25|         1|\n",
      "|1932| TOR|Toronto Maple Leafs| 54| 24|         2|\n",
      "|1932| NYR|   New York Rangers| 54| 23|         3|\n",
      "|1933| TOR|Toronto Maple Leafs| 61| 26|         1|\n",
      "|1933| DET|  Detroit Red Wings| 58| 24|         2|\n",
      "|1933| CHI|Chicago Black Hawks| 51| 20|         3|\n",
      "|1934| TOR|Toronto Maple Leafs| 64| 30|         1|\n",
      "|1934| BOS|      Boston Bruins| 58| 26|         2|\n",
      "|1934| CHI|Chicago Black Hawks| 57| 26|         3|\n",
      "|1935| DET|  Detroit Red Wings| 56| 24|         1|\n",
      "|1935| MTM|   Montreal Maroons| 54| 22|         2|\n",
      "|1935| TOR|Toronto Maple Leafs| 52| 23|         3|\n",
      "|1936| DET|  Detroit Red Wings| 59| 25|         1|\n",
      "|1936| MTL| Montreal Canadiens| 54| 24|         2|\n",
      "|1936| BOS|      Boston Bruins| 53| 23|         3|\n",
      "|1937| BOS|      Boston Bruins| 67| 30|         1|\n",
      "+----+----+-------------------+---+---+----------+\n",
      "only showing top 20 rows\n",
      "\n"
     ]
    }
   ],
   "source": [
    "# Define a Window specification\n",
    "window_spec = Window.partitionBy(\"year\").orderBy(col(\"Pts\").desc(), col(\"ROW\").desc())\n",
    "\n",
    "# Apply dense rank on the windows\n",
    "ranked_teams = teams_1931.withColumn(\"dense_rank\", dense_rank().over(window_spec))\n",
    "\n",
    "# Filter rows where dense_rank is less than or equal to 3\n",
    "top_three_teams = ranked_teams.filter(col(\"dense_rank\") <= 3)\n",
    "\n",
    "# Show the resulting DataFrame\n",
    "top_three_teams.show()"
   ]
  },
  {
   "cell_type": "markdown",
   "id": "ab4dc189-4221-4184-85a8-80bc4e8f98b5",
   "metadata": {},
   "source": [
    "### Join with Coaches"
   ]
  },
  {
   "cell_type": "code",
   "execution_count": 10,
   "id": "dc2fb3fa-59d6-4313-88c3-49151480128c",
   "metadata": {},
   "outputs": [],
   "source": [
    "# Join with Coaches table\n",
    "intermediate = top_three_teams.join(coaches, [\"tmID\", \"year\"], \"left\")"
   ]
  },
  {
   "cell_type": "markdown",
   "id": "94465840-9510-497d-8149-214974869ca1",
   "metadata": {},
   "source": [
    "### Join with AwardsCoaches"
   ]
  },
  {
   "cell_type": "code",
   "execution_count": 11,
   "id": "4117ce4e-f32d-4b26-a4ac-e64f11edd43e",
   "metadata": {},
   "outputs": [
    {
     "name": "stdout",
     "output_type": "stream",
     "text": [
      "+----+----+-------------------+---+---+----------+----------+--------------------+\n",
      "|tmID|year|               name|Pts|ROW|dense_rank|   coachID|               award|\n",
      "+----+----+-------------------+---+---+----------+----------+--------------------+\n",
      "| MTL|1931| Montreal Canadiens| 57| 25|         1| hartce01c|                NULL|\n",
      "| NYR|1931|   New York Rangers| 54| 23|         2|patrile01c| First Team All-Star|\n",
      "| NYR|1931|   New York Rangers| 54| 23|         2|patrile01c| First Team All-Star|\n",
      "| TOR|1931|Toronto Maple Leafs| 53| 23|         3|irvindi01c|Second Team All-Star|\n",
      "| TOR|1931|Toronto Maple Leafs| 53| 23|         3|irvindi01c|Second Team All-Star|\n",
      "| TOR|1931|Toronto Maple Leafs| 53| 23|         3|duncaar01c|                NULL|\n",
      "| BOS|1932|      Boston Bruins| 58| 25|         1| rossar01c|                NULL|\n",
      "| DET|1932|  Detroit Red Wings| 58| 25|         1|adamsja01c|                NULL|\n",
      "| TOR|1932|Toronto Maple Leafs| 54| 24|         2|irvindi01c|Second Team All-Star|\n",
      "| TOR|1932|Toronto Maple Leafs| 54| 24|         2|irvindi01c|Second Team All-Star|\n",
      "| TOR|1932|Toronto Maple Leafs| 54| 24|         2|irvindi01c|Second Team All-Star|\n",
      "| NYR|1932|   New York Rangers| 54| 23|         3|patrile01c| First Team All-Star|\n",
      "| NYR|1932|   New York Rangers| 54| 23|         3|patrile01c| First Team All-Star|\n",
      "| NYR|1932|   New York Rangers| 54| 23|         3|patrile01c| First Team All-Star|\n",
      "| TOR|1933|Toronto Maple Leafs| 61| 26|         1|irvindi01c|Second Team All-Star|\n",
      "| TOR|1933|Toronto Maple Leafs| 61| 26|         1|irvindi01c|Second Team All-Star|\n",
      "| TOR|1933|Toronto Maple Leafs| 61| 26|         1|irvindi01c|Second Team All-Star|\n",
      "| TOR|1933|Toronto Maple Leafs| 61| 26|         1|irvindi01c|Second Team All-Star|\n",
      "| DET|1933|  Detroit Red Wings| 58| 24|         2|adamsja01c|                NULL|\n",
      "| CHI|1933|Chicago Black Hawks| 51| 20|         3|gormato01c|                NULL|\n",
      "+----+----+-------------------+---+---+----------+----------+--------------------+\n",
      "only showing top 20 rows\n",
      "\n"
     ]
    }
   ],
   "source": [
    "# Join with AwardsCoaches table\n",
    "joinExpression = (intermediate[\"coachID\"] == awards[\"award_coachID\"]) & (intermediate[\"year\"] >= awards[\"award_year\"])\n",
    "\n",
    "intermediate = intermediate.join(awards, joinExpression, \"left\").drop(\"award_coachID\").drop(\"award_year\")\n",
    "intermediate.show()"
   ]
  },
  {
   "cell_type": "markdown",
   "id": "0785faf1-aee2-4cbd-aa28-c1eeede5aa76",
   "metadata": {},
   "source": [
    "### Count awards per category for each team in each year"
   ]
  },
  {
   "cell_type": "code",
   "execution_count": 12,
   "id": "613b3e56-6596-411e-8eae-cfd5867e7af3",
   "metadata": {},
   "outputs": [
    {
     "name": "stdout",
     "output_type": "stream",
     "text": [
      "+----+----+-------------------+---+---+----------+----------+--------------------+\n",
      "|tmID|year|               name|Pts|ROW|dense_rank|   coachID|               award|\n",
      "+----+----+-------------------+---+---+----------+----------+--------------------+\n",
      "| MTL|1931| Montreal Canadiens| 57| 25|         1| hartce01c|                NULL|\n",
      "| NYR|1931|   New York Rangers| 54| 23|         2|patrile01c| First Team All-Star|\n",
      "| NYR|1931|   New York Rangers| 54| 23|         2|patrile01c| First Team All-Star|\n",
      "| TOR|1931|Toronto Maple Leafs| 53| 23|         3|irvindi01c|Second Team All-Star|\n",
      "| TOR|1931|Toronto Maple Leafs| 53| 23|         3|irvindi01c|Second Team All-Star|\n",
      "| TOR|1931|Toronto Maple Leafs| 53| 23|         3|duncaar01c|                NULL|\n",
      "| BOS|1932|      Boston Bruins| 58| 25|         1| rossar01c|                NULL|\n",
      "| DET|1932|  Detroit Red Wings| 58| 25|         1|adamsja01c|                NULL|\n",
      "| TOR|1932|Toronto Maple Leafs| 54| 24|         2|irvindi01c|Second Team All-Star|\n",
      "| TOR|1932|Toronto Maple Leafs| 54| 24|         2|irvindi01c|Second Team All-Star|\n",
      "| TOR|1932|Toronto Maple Leafs| 54| 24|         2|irvindi01c|Second Team All-Star|\n",
      "| NYR|1932|   New York Rangers| 54| 23|         3|patrile01c| First Team All-Star|\n",
      "| NYR|1932|   New York Rangers| 54| 23|         3|patrile01c| First Team All-Star|\n",
      "| NYR|1932|   New York Rangers| 54| 23|         3|patrile01c| First Team All-Star|\n",
      "| TOR|1933|Toronto Maple Leafs| 61| 26|         1|irvindi01c|Second Team All-Star|\n",
      "| TOR|1933|Toronto Maple Leafs| 61| 26|         1|irvindi01c|Second Team All-Star|\n",
      "| TOR|1933|Toronto Maple Leafs| 61| 26|         1|irvindi01c|Second Team All-Star|\n",
      "| TOR|1933|Toronto Maple Leafs| 61| 26|         1|irvindi01c|Second Team All-Star|\n",
      "| DET|1933|  Detroit Red Wings| 58| 24|         2|adamsja01c|                NULL|\n",
      "| CHI|1933|Chicago Black Hawks| 51| 20|         3|gormato01c|                NULL|\n",
      "+----+----+-------------------+---+---+----------+----------+--------------------+\n",
      "only showing top 20 rows\n",
      "\n",
      "+----+----+-------------------+---+---+----------+--------------------+\n",
      "|tmID|year|               name|Pts|ROW|dense_rank|            category|\n",
      "+----+----+-------------------+---+---+----------+--------------------+\n",
      "| MTL|1931| Montreal Canadiens| 57| 25|         1| First Team All-Star|\n",
      "| MTL|1931| Montreal Canadiens| 57| 25|         1|          Jack Adams|\n",
      "| MTL|1931| Montreal Canadiens| 57| 25|         1|Second Team All-Star|\n",
      "| NYR|1931|   New York Rangers| 54| 23|         2| First Team All-Star|\n",
      "| NYR|1931|   New York Rangers| 54| 23|         2|          Jack Adams|\n",
      "| NYR|1931|   New York Rangers| 54| 23|         2|Second Team All-Star|\n",
      "| TOR|1931|Toronto Maple Leafs| 53| 23|         3| First Team All-Star|\n",
      "| TOR|1931|Toronto Maple Leafs| 53| 23|         3|          Jack Adams|\n",
      "| TOR|1931|Toronto Maple Leafs| 53| 23|         3|Second Team All-Star|\n",
      "| BOS|1932|      Boston Bruins| 58| 25|         1| First Team All-Star|\n",
      "| BOS|1932|      Boston Bruins| 58| 25|         1|          Jack Adams|\n",
      "| BOS|1932|      Boston Bruins| 58| 25|         1|Second Team All-Star|\n",
      "| DET|1932|  Detroit Red Wings| 58| 25|         1| First Team All-Star|\n",
      "| DET|1932|  Detroit Red Wings| 58| 25|         1|          Jack Adams|\n",
      "| DET|1932|  Detroit Red Wings| 58| 25|         1|Second Team All-Star|\n",
      "| TOR|1932|Toronto Maple Leafs| 54| 24|         2| First Team All-Star|\n",
      "| TOR|1932|Toronto Maple Leafs| 54| 24|         2|          Jack Adams|\n",
      "| TOR|1932|Toronto Maple Leafs| 54| 24|         2|Second Team All-Star|\n",
      "| NYR|1932|   New York Rangers| 54| 23|         3| First Team All-Star|\n",
      "| NYR|1932|   New York Rangers| 54| 23|         3|          Jack Adams|\n",
      "+----+----+-------------------+---+---+----------+--------------------+\n",
      "only showing top 20 rows\n",
      "\n",
      "+----+----+-------------------+---+---+----------+--------------------+-----------+\n",
      "|tmID|year|               name|Pts|ROW|dense_rank|               award|award_count|\n",
      "+----+----+-------------------+---+---+----------+--------------------+-----------+\n",
      "| MTL|1931| Montreal Canadiens| 57| 25|         1| First Team All-Star|          0|\n",
      "| MTL|1931| Montreal Canadiens| 57| 25|         1|          Jack Adams|          0|\n",
      "| MTL|1931| Montreal Canadiens| 57| 25|         1|Second Team All-Star|          0|\n",
      "| NYR|1931|   New York Rangers| 54| 23|         2| First Team All-Star|          2|\n",
      "| NYR|1931|   New York Rangers| 54| 23|         2|          Jack Adams|          0|\n",
      "| NYR|1931|   New York Rangers| 54| 23|         2|Second Team All-Star|          0|\n",
      "| TOR|1931|Toronto Maple Leafs| 53| 23|         3| First Team All-Star|          0|\n",
      "| TOR|1931|Toronto Maple Leafs| 53| 23|         3|          Jack Adams|          0|\n",
      "| TOR|1931|Toronto Maple Leafs| 53| 23|         3|Second Team All-Star|          2|\n",
      "| BOS|1932|      Boston Bruins| 58| 25|         1| First Team All-Star|          0|\n",
      "| BOS|1932|      Boston Bruins| 58| 25|         1|          Jack Adams|          0|\n",
      "| BOS|1932|      Boston Bruins| 58| 25|         1|Second Team All-Star|          0|\n",
      "| DET|1932|  Detroit Red Wings| 58| 25|         1| First Team All-Star|          0|\n",
      "| DET|1932|  Detroit Red Wings| 58| 25|         1|          Jack Adams|          0|\n",
      "| DET|1932|  Detroit Red Wings| 58| 25|         1|Second Team All-Star|          0|\n",
      "| TOR|1932|Toronto Maple Leafs| 54| 24|         2| First Team All-Star|          0|\n",
      "| TOR|1932|Toronto Maple Leafs| 54| 24|         2|          Jack Adams|          0|\n",
      "| TOR|1932|Toronto Maple Leafs| 54| 24|         2|Second Team All-Star|          3|\n",
      "| NYR|1932|   New York Rangers| 54| 23|         3| First Team All-Star|          3|\n",
      "| NYR|1932|   New York Rangers| 54| 23|         3|          Jack Adams|          0|\n",
      "+----+----+-------------------+---+---+----------+--------------------+-----------+\n",
      "only showing top 20 rows\n",
      "\n",
      "root\n",
      " |-- tmID: string (nullable = true)\n",
      " |-- year: integer (nullable = true)\n",
      " |-- name: string (nullable = true)\n",
      " |-- Pts: integer (nullable = true)\n",
      " |-- ROW: integer (nullable = true)\n",
      " |-- dense_rank: integer (nullable = false)\n",
      " |-- award: string (nullable = true)\n",
      " |-- award_count: long (nullable = false)\n",
      "\n"
     ]
    }
   ],
   "source": [
    "intermediate.createOrReplaceTempView(\"intermediate\")\n",
    "intermediate.show()\n",
    "\n",
    "# Create a DataFrame with all combinations of teams, years, and award categories\n",
    "all_combinations = spark.sql(\"\"\"\n",
    "    SELECT DISTINCT tmID, year, name, Pts, ROW, dense_rank, category\n",
    "    FROM intermediate\n",
    "    CROSS JOIN (SELECT DISTINCT award AS category FROM intermediate)\n",
    "\"\"\")\n",
    "all_combinations.createOrReplaceTempView(\"all_combinations\")\n",
    "all_combinations.show()\n",
    "\n",
    "# Left join to include all combinations in the result\n",
    "result = spark.sql(\"\"\"\n",
    "    SELECT ac.tmID, ac.year, ac.name, ac.Pts, ac.ROW, ac.dense_rank, ac.category AS award, COALESCE(COUNT(i.award), 0) AS award_count\n",
    "    FROM all_combinations ac\n",
    "    LEFT JOIN intermediate i\n",
    "    ON ac.tmID = i.tmID AND ac.year = i.year AND ac.category = i.award\n",
    "    GROUP BY ac.tmID, ac.year, ac.name, ac.Pts, ac.ROW, ac.dense_rank, ac.category\n",
    "\"\"\")\n",
    "result.show()\n",
    "result.printSchema()\n",
    "\n",
    "# Remove rows where award is NULL (these rows occur in 'intermediate' when no awards were received by that team in that year)\n",
    "result = result.filter(col(\"award\").isNotNull())"
   ]
  },
  {
   "cell_type": "markdown",
   "id": "8e1c118c-4663-4ca9-b3ed-ee79a22da0e8",
   "metadata": {},
   "source": [
    "## Store the result in BigQuery"
   ]
  },
  {
   "cell_type": "code",
   "execution_count": 13,
   "id": "fe5eb434-ecf1-4640-8472-c06a3fd0995d",
   "metadata": {},
   "outputs": [],
   "source": [
    "# Use the Cloud Storage bucket for temporary BigQuery export data used by the connector.\n",
    "bucket = \"data_de2023_qjsol\"  # use your bucket \n",
    "spark.conf.set('temporaryGcsBucket', bucket)\n",
    "\n",
    "# Saving the data to BigQuery\n",
    "result.write.format('bigquery').option('table', 'dataengineering2023-398611.assignment2.coaches').mode(\"append\").save() # use your project-id"
   ]
  },
  {
   "cell_type": "code",
   "execution_count": 14,
   "id": "a65c93cf-5c55-41f2-9d99-8bc0b7ff9f43",
   "metadata": {},
   "outputs": [],
   "source": [
    "# Stop the spark context\n",
    "spark.stop()"
   ]
  },
  {
   "cell_type": "code",
   "execution_count": null,
   "id": "c7261c4c-4194-4f57-98ee-9d8b108188ce",
   "metadata": {},
   "outputs": [],
   "source": []
  }
 ],
 "metadata": {
  "kernelspec": {
   "display_name": "Python 3 (ipykernel)",
   "language": "python",
   "name": "python3"
  },
  "language_info": {
   "codemirror_mode": {
    "name": "ipython",
    "version": 3
   },
   "file_extension": ".py",
   "mimetype": "text/x-python",
   "name": "python",
   "nbconvert_exporter": "python",
   "pygments_lexer": "ipython3",
   "version": "3.11.6"
  }
 },
 "nbformat": 4,
 "nbformat_minor": 5
}
