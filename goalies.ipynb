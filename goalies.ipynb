{
 "cells": [
  {
   "cell_type": "markdown",
   "id": "a5f33052-7668-4c31-9f81-a7208bcd1fa5",
   "metadata": {},
   "source": [
    "# Pipeline: Goalies Shootouts"
   ]
  },
  {
   "cell_type": "code",
   "execution_count": 64,
   "id": "09aa8de0-d0b9-430b-a8d8-2b048d459cae",
   "metadata": {},
   "outputs": [],
   "source": [
    "from pyspark.sql import SparkSession\n",
    "from pyspark import SparkConf\n",
    "from pyspark.sql.window import Window\n",
    "from pyspark.sql.functions import col, lit, avg, sum, round, expr, concat, min, max, dense_rank\n",
    "\n",
    "sparkConf = SparkConf()\n",
    "sparkConf.setMaster(\"spark://spark-master:7077\")\n",
    "sparkConf.setAppName(\"GoaliesApp\")\n",
    "sparkConf.set(\"spark.driver.memory\", \"2g\")\n",
    "sparkConf.set(\"spark.executor.cores\", \"1\")\n",
    "sparkConf.set(\"spark.driver.cores\", \"1\")\n",
    "\n",
    "# create the spark session, which is the entry point to Spark SQL engine.\n",
    "spark = SparkSession.builder.config(conf=sparkConf).getOrCreate()\n",
    "\n",
    "# Setup hadoop fs configuration for schema gs://\n",
    "conf = spark.sparkContext._jsc.hadoopConfiguration()\n",
    "conf.set(\"fs.gs.impl\", \"com.google.cloud.hadoop.fs.gcs.GoogleHadoopFileSystem\")\n",
    "conf.set(\"fs.AbstractFileSystem.gs.impl\", \"com.google.cloud.hadoop.fs.gcs.GoogleHadoopFS\")"
   ]
  },
  {
   "cell_type": "markdown",
   "id": "b9ff4732-b490-4575-9c46-159b503fe7e8",
   "metadata": {},
   "source": [
    "## Load the datasets"
   ]
  },
  {
   "cell_type": "markdown",
   "id": "b37db9f8-3d33-45ca-8952-41bdb2989827",
   "metadata": {},
   "source": [
    "### Prepare Goalies Shootout Table"
   ]
  },
  {
   "cell_type": "code",
   "execution_count": 65,
   "id": "6388cf82-46b0-4c25-90c5-e318524db4d7",
   "metadata": {},
   "outputs": [
    {
     "name": "stdout",
     "output_type": "stream",
     "text": [
      "root\n",
      " |-- playerID: string (nullable = true)\n",
      " |-- tmID: string (nullable = true)\n",
      " |-- SA: string (nullable = true)\n",
      " |-- GA: string (nullable = true)\n",
      " |-- year: string (nullable = true)\n",
      "\n",
      "root\n",
      " |-- playerID: string (nullable = true)\n",
      " |-- tmID: string (nullable = true)\n",
      " |-- SA: integer (nullable = true)\n",
      " |-- GA: integer (nullable = true)\n",
      " |-- year: integer (nullable = true)\n",
      "\n",
      "+---------+----+---+---+----+\n",
      "| playerID|tmID| SA| GA|year|\n",
      "+---------+----+---+---+----+\n",
      "|aebisda01| COL| 10|  2|2005|\n",
      "|aebisda01| MTL| 18|  6|2006|\n",
      "|andercr01| CHI|  7|  5|2005|\n",
      "|andercr01| FLO|  2|  0|2006|\n",
      "|andercr01| FLO| 11|  7|2008|\n",
      "+---------+----+---+---+----+\n",
      "only showing top 5 rows\n",
      "\n"
     ]
    }
   ],
   "source": [
    "# Load the goalies shootout table\n",
    "goaliesShootout = spark.read.format(\"csv\").option(\"header\", \"true\").load(\"gs://data_de2023_qjsol/GoaliesShootout.csv\") #  use your gcp bucket name. \n",
    "\n",
    "# Only keep columns of interest\n",
    "goaliesShootout = goaliesShootout.select(\"playerID\", \"tmID\", \"SA\", \"GA\", \"year\")\n",
    "goaliesShootout.na.drop(\"any\")\n",
    "\n",
    "# Show schema\n",
    "goaliesShootout.printSchema()\n",
    "\n",
    "# Convert shots against (SA), goals against (GA) and year from string to integer type\n",
    "goaliesShootout = goaliesShootout.withColumn(\"SA\", col(\"SA\").cast(\"int\")).withColumn(\"GA\", col(\"GA\").cast(\"int\")).withColumn(\"year\", col(\"year\").cast(\"int\"))\n",
    "\n",
    "# Show new schema and top 5 rows\n",
    "goaliesShootout.printSchema()\n",
    "goaliesShootout.show(5)"
   ]
  },
  {
   "cell_type": "markdown",
   "id": "2a804fc4-8b8c-4c77-afbf-d7027d7a7f40",
   "metadata": {},
   "source": [
    "### Prepare Master Table"
   ]
  },
  {
   "cell_type": "code",
   "execution_count": 66,
   "id": "cad32b47-bce1-4962-983e-10bbfc641d2c",
   "metadata": {},
   "outputs": [
    {
     "name": "stdout",
     "output_type": "stream",
     "text": [
      "root\n",
      " |-- playerID: string (nullable = true)\n",
      " |-- firstName: string (nullable = true)\n",
      " |-- lastName: string (nullable = true)\n",
      " |-- birthYear: string (nullable = true)\n",
      "\n",
      "root\n",
      " |-- playerID: string (nullable = true)\n",
      " |-- firstName: string (nullable = true)\n",
      " |-- lastName: string (nullable = true)\n",
      " |-- birthYear: integer (nullable = true)\n",
      "\n",
      "+---------+---------+----------+---------+\n",
      "| playerID|firstName|  lastName|birthYear|\n",
      "+---------+---------+----------+---------+\n",
      "|aaltoan01|    Antti|     Aalto|     1975|\n",
      "|abbeybr01|    Bruce|     Abbey|     1951|\n",
      "|abbotge01|   George|    Abbott|     1911|\n",
      "|abbotre01|      Reg|    Abbott|     1930|\n",
      "|abdelju01|   Justin|Abdelkader|     1987|\n",
      "+---------+---------+----------+---------+\n",
      "only showing top 5 rows\n",
      "\n"
     ]
    }
   ],
   "source": [
    "#  Load the master table\n",
    "master = spark.read.format(\"csv\").option(\"header\", \"true\").load(\"gs://data_de2023_qjsol/Master.csv\") #  use your gcp bucket name. \n",
    "\n",
    "# Only keep columns of interest\n",
    "master = master.select(\"playerID\", \"firstName\", \"lastName\", \"birthYear\")\n",
    "master.na.drop(\"any\")\n",
    "\n",
    "# Show schema\n",
    "master.printSchema()\n",
    "\n",
    "# Convert birth year from string to integer type\n",
    "master = master.withColumn(\"birthYear\", col(\"birthYear\").cast(\"int\"))\n",
    "\n",
    "# Show new schema and top 5 rows\n",
    "master.printSchema()\n",
    "master.show(5)"
   ]
  },
  {
   "cell_type": "code",
   "execution_count": 70,
   "id": "6f0bae93-e532-4fe7-bc0f-b8c27e9dfc63",
   "metadata": {},
   "outputs": [
    {
     "name": "stdout",
     "output_type": "stream",
     "text": [
      "root\n",
      " |-- playerID: string (nullable = true)\n",
      " |-- tmID: string (nullable = true)\n",
      " |-- totalSA: integer (nullable = true)\n",
      " |-- totalGA: integer (nullable = true)\n",
      " |-- startYear: integer (nullable = true)\n",
      " |-- endYear: integer (nullable = true)\n",
      " |-- performance: double (nullable = true)\n",
      "\n",
      "+---------+----+-------+-------+---------+-------+-----------------+\n",
      "| playerID|tmID|totalSA|totalGA|startYear|endYear|      performance|\n",
      "+---------+----+-------+-------+---------+-------+-----------------+\n",
      "|gigueje01| ANA|     31|     12|     2005|   2005|61.29032258064516|\n",
      "|hillejo01| AND|    136|     41|     2007|   2011|69.85294117647058|\n",
      "|gigueje01| AND|     89|     31|     2006|   2009| 65.1685393258427|\n",
      "|bryzgil01| AND|     16|      7|     2006|   2007|            56.25|\n",
      "|hedbejo01| ATL|     65|     13|     2007|   2009|             80.0|\n",
      "+---------+----+-------+-------+---------+-------+-----------------+\n",
      "only showing top 5 rows\n",
      "\n",
      "+---------+----+-------+-------+---------+-------+-----------------+--------------+---------+---------+\n",
      "| playerID|tmID|totalSA|totalGA|startYear|endYear|      performance|     firstName| lastName|birthYear|\n",
      "+---------+----+-------+-------+---------+-------+-----------------+--------------+---------+---------+\n",
      "|gigueje01| ANA|     31|     12|     2005|   2005|61.29032258064516|Jean-Sebastien|  Giguere|     1977|\n",
      "|hillejo01| AND|    136|     41|     2007|   2011|69.85294117647058|         Jonas|   Hiller|     1982|\n",
      "|gigueje01| AND|     89|     31|     2006|   2009| 65.1685393258427|Jean-Sebastien|  Giguere|     1977|\n",
      "|bryzgil01| AND|     16|      7|     2006|   2007|            56.25|          Ilya|Bryzgalov|     1980|\n",
      "|hedbejo01| ATL|     65|     13|     2007|   2009|             80.0|         Johan|  Hedberg|     1973|\n",
      "+---------+----+-------+-------+---------+-------+-----------------+--------------+---------+---------+\n",
      "only showing top 5 rows\n",
      "\n",
      "root\n",
      " |-- playerID: string (nullable = true)\n",
      " |-- tmID: string (nullable = true)\n",
      " |-- totalSA: integer (nullable = true)\n",
      " |-- totalGA: integer (nullable = true)\n",
      " |-- performance: double (nullable = true)\n",
      " |-- fullName: string (nullable = true)\n",
      " |-- age: string (nullable = true)\n",
      " |-- playingYears: string (nullable = true)\n",
      "\n",
      "+---------+----+-------+-------+-----------------+--------------------+-----+------------+\n",
      "| playerID|tmID|totalSA|totalGA|      performance|            fullName|  age|playingYears|\n",
      "+---------+----+-------+-------+-----------------+--------------------+-----+------------+\n",
      "|gigueje01| ANA|     31|     12|61.29032258064516|Jean-Sebastien Gi...|   28|        2005|\n",
      "|hillejo01| AND|    136|     41|69.85294117647058|        Jonas Hiller|25-29|   2007-2011|\n",
      "|gigueje01| AND|     89|     31| 65.1685393258427|Jean-Sebastien Gi...|29-32|   2006-2009|\n",
      "|bryzgil01| AND|     16|      7|            56.25|      Ilya Bryzgalov|26-27|   2006-2007|\n",
      "|hedbejo01| ATL|     65|     13|             80.0|       Johan Hedberg|34-36|   2007-2009|\n",
      "+---------+----+-------+-------+-----------------+--------------------+-----+------------+\n",
      "only showing top 5 rows\n",
      "\n"
     ]
    }
   ],
   "source": [
    "# Sum shots againts (SA) and goals against (GA) of each goalie in each team\n",
    "sumgoaliesShootout = goaliesShootout.groupBy(\"playerID\", \"tmID\").agg(sum(\"SA\").cast(\"int\").alias(\"totalSA\"), \n",
    "                                                                     sum(\"GA\").cast(\"int\").alias(\"totalGA\"), \n",
    "                                                                     min(\"year\").alias(\"startYear\"),\n",
    "                                                                     max(\"year\").alias(\"endYear\"))\n",
    "\n",
    "# Compute the performance (percentage of shots that resulted in a goal) for each goalie in each team\n",
    "performance = sumgoaliesShootout.withColumn(\"performance\", (lit(1) - col(\"totalGA\") / col(\"totalSA\")) * 100)\n",
    "performance.printSchema()\n",
    "\n",
    "# Define window: a window for each team, within each window sort on performance then on total shots against (totalGA)\n",
    "windowSpec = Window.partitionBy(\"tmID\").orderBy(col(\"performance\").desc(), col(\"totalGA\").desc())\n",
    "\n",
    "# Apply dense rank on the windows\n",
    "rankedGoalies = performance.withColumn(\"denseRank\", dense_rank().over(windowSpec))\n",
    "\n",
    "# Keep only the top three goalies in each team\n",
    "topThreeGoalies = rankedGoalies.filter(col(\"denseRank\") <= 3).drop(\"denseRank\")\n",
    "topThreeGoalies.show(5)\n",
    "\n",
    "# Join with Master table\n",
    "result = topThreeGoalies.join(master, ['playerID'], \"left\")\n",
    "result.show(5)\n",
    "\n",
    "# Column with full name instead of separate firstName and lastName\n",
    "result = result.withColumn(\"fullName\", concat(col(\"firstName\"), lit(\" \"), col(\"lastName\"))).drop(\"firstName\").drop(\"lastName\")\n",
    "\n",
    "# Calculate age of each goalie during his/her top-performing years\n",
    "result = result.withColumn(\"startAge\", expr(\"startYear - birthYear\")).withColumn(\"endAge\", expr(\"endYear - birthYear\")).drop(\"birthYear\")\n",
    "\n",
    "# Column with age range\n",
    "result = result.withColumn(\"age\", expr(\"concat(startAge, case when startAge = endAge then '' else concat('-', endAge) end)\")).drop(\"startAge\").drop(\"endAge\")\n",
    "\n",
    "# Column with range of playing years\n",
    "result = result.withColumn(\"playingYears\", \n",
    "                           expr(\"concat(startYear, case when startYear = endYear then '' else concat('-', endYear) end)\")).drop(\"startYear\").drop(\"endYear\")\n",
    "result.printSchema()\n",
    "result.show(5)\n",
    "\n",
    "# TODO: join with Team table to get team names\n",
    "# TODO: make smaller steps in notebook\n",
    "# TODO: remove unused imports"
   ]
  },
  {
   "cell_type": "markdown",
   "id": "8e1c118c-4663-4ca9-b3ed-ee79a22da0e8",
   "metadata": {},
   "source": [
    "## Store the result in BigQuery"
   ]
  },
  {
   "cell_type": "code",
   "execution_count": 74,
   "id": "fe5eb434-ecf1-4640-8472-c06a3fd0995d",
   "metadata": {},
   "outputs": [],
   "source": [
    "# Use the Cloud Storage bucket for temporary BigQuery export data used by the connector.\n",
    "bucket = \"data_de2023_qjsol\"  # use your bucket \n",
    "spark.conf.set('temporaryGcsBucket', bucket)\n",
    "# Setup hadoop fs configuration for schema gs://\n",
    "conf = spark.sparkContext._jsc.hadoopConfiguration()\n",
    "conf.set(\"fs.gs.impl\", \"com.google.cloud.hadoop.fs.gcs.GoogleHadoopFileSystem\")\n",
    "conf.set(\"fs.AbstractFileSystem.gs.impl\", \"com.google.cloud.hadoop.fs.gcs.GoogleHadoopFS\")\n",
    "# Saving the data to BigQuery\n",
    "result.write.format('bigquery').option('table', 'dataengineering2023-398611.assignment2.goalies').mode(\"append\").save() # use your project-id"
   ]
  },
  {
   "cell_type": "code",
   "execution_count": 75,
   "id": "a65c93cf-5c55-41f2-9d99-8bc0b7ff9f43",
   "metadata": {},
   "outputs": [],
   "source": [
    "# Stop the spark context\n",
    "spark.stop()"
   ]
  }
 ],
 "metadata": {
  "kernelspec": {
   "display_name": "Python 3 (ipykernel)",
   "language": "python",
   "name": "python3"
  },
  "language_info": {
   "codemirror_mode": {
    "name": "ipython",
    "version": 3
   },
   "file_extension": ".py",
   "mimetype": "text/x-python",
   "name": "python",
   "nbconvert_exporter": "python",
   "pygments_lexer": "ipython3",
   "version": "3.11.6"
  }
 },
 "nbformat": 4,
 "nbformat_minor": 5
}
