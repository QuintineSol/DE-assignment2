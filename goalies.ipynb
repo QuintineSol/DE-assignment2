{
 "cells": [
  {
   "cell_type": "markdown",
   "id": "a5f33052-7668-4c31-9f81-a7208bcd1fa5",
   "metadata": {},
   "source": [
    "# Pipeline: Goalies Shootouts"
   ]
  },
  {
   "cell_type": "code",
   "execution_count": 48,
   "id": "09aa8de0-d0b9-430b-a8d8-2b048d459cae",
   "metadata": {},
   "outputs": [],
   "source": [
    "from pyspark.sql import SparkSession\n",
    "from pyspark import SparkConf\n",
    "from pyspark.sql.window import Window\n",
    "from pyspark.sql.functions import col, lit, sum, expr, concat, min, max, dense_rank, when\n",
    "\n",
    "sparkConf = SparkConf()\n",
    "sparkConf.setMaster(\"spark://spark-master:7077\")\n",
    "sparkConf.setAppName(\"GoaliesApp\")\n",
    "sparkConf.set(\"spark.driver.memory\", \"2g\")\n",
    "sparkConf.set(\"spark.executor.cores\", \"1\")\n",
    "sparkConf.set(\"spark.driver.cores\", \"1\")\n",
    "\n",
    "# create the spark session, which is the entry point to Spark SQL engine.\n",
    "spark = SparkSession.builder.config(conf=sparkConf).getOrCreate()\n",
    "\n",
    "# Setup hadoop fs configuration for schema gs://\n",
    "conf = spark.sparkContext._jsc.hadoopConfiguration()\n",
    "conf.set(\"fs.gs.impl\", \"com.google.cloud.hadoop.fs.gcs.GoogleHadoopFileSystem\")\n",
    "conf.set(\"fs.AbstractFileSystem.gs.impl\", \"com.google.cloud.hadoop.fs.gcs.GoogleHadoopFS\")"
   ]
  },
  {
   "cell_type": "markdown",
   "id": "b37db9f8-3d33-45ca-8952-41bdb2989827",
   "metadata": {},
   "source": [
    "### Prepare GoaliesShootout Table"
   ]
  },
  {
   "cell_type": "code",
   "execution_count": 49,
   "id": "6388cf82-46b0-4c25-90c5-e318524db4d7",
   "metadata": {},
   "outputs": [
    {
     "name": "stdout",
     "output_type": "stream",
     "text": [
      "root\n",
      " |-- playerID: string (nullable = true)\n",
      " |-- tmID: string (nullable = true)\n",
      " |-- SA: string (nullable = true)\n",
      " |-- GA: string (nullable = true)\n",
      " |-- year: string (nullable = true)\n",
      "\n",
      "root\n",
      " |-- playerID: string (nullable = true)\n",
      " |-- tmID: string (nullable = true)\n",
      " |-- SA: integer (nullable = true)\n",
      " |-- GA: integer (nullable = true)\n",
      " |-- year: integer (nullable = true)\n",
      "\n",
      "+---------+----+---+---+----+\n",
      "| playerID|tmID| SA| GA|year|\n",
      "+---------+----+---+---+----+\n",
      "|aebisda01| COL| 10|  2|2005|\n",
      "|aebisda01| MTL| 18|  6|2006|\n",
      "|andercr01| CHI|  7|  5|2005|\n",
      "|andercr01| FLO|  2|  0|2006|\n",
      "|andercr01| FLO| 11|  7|2008|\n",
      "+---------+----+---+---+----+\n",
      "only showing top 5 rows\n",
      "\n"
     ]
    }
   ],
   "source": [
    "# Load the goalies shootout table\n",
    "goaliesShootout = spark.read.format(\"csv\").option(\"header\", \"true\").load(\"gs://data_de2023_qjsol/GoaliesShootout.csv\") #  use your gcp bucket name. \n",
    "\n",
    "# Only keep columns of interest\n",
    "goaliesShootout = goaliesShootout.select(\"playerID\", \"tmID\", \"SA\", \"GA\", \"year\")\n",
    "goaliesShootout.na.drop(\"any\")\n",
    "\n",
    "# Show schema\n",
    "goaliesShootout.printSchema()\n",
    "\n",
    "# Convert shots against (SA), goals against (GA) and year from string to integer type\n",
    "goaliesShootout = goaliesShootout.withColumn(\"SA\", col(\"SA\").cast(\"int\")).withColumn(\"GA\", col(\"GA\").cast(\"int\")).withColumn(\"year\", col(\"year\").cast(\"int\"))\n",
    "\n",
    "# Show new schema and top 5 rows\n",
    "goaliesShootout.printSchema()\n",
    "goaliesShootout.show(5)"
   ]
  },
  {
   "cell_type": "markdown",
   "id": "2a804fc4-8b8c-4c77-afbf-d7027d7a7f40",
   "metadata": {},
   "source": [
    "### Prepare Master Table"
   ]
  },
  {
   "cell_type": "code",
   "execution_count": 50,
   "id": "cad32b47-bce1-4962-983e-10bbfc641d2c",
   "metadata": {},
   "outputs": [
    {
     "name": "stdout",
     "output_type": "stream",
     "text": [
      "root\n",
      " |-- playerID: string (nullable = true)\n",
      " |-- firstName: string (nullable = true)\n",
      " |-- lastName: string (nullable = true)\n",
      " |-- birthYear: string (nullable = true)\n",
      "\n",
      "root\n",
      " |-- playerID: string (nullable = true)\n",
      " |-- firstName: string (nullable = true)\n",
      " |-- lastName: string (nullable = true)\n",
      " |-- birthYear: integer (nullable = true)\n",
      "\n",
      "+---------+---------+----------+---------+\n",
      "| playerID|firstName|  lastName|birthYear|\n",
      "+---------+---------+----------+---------+\n",
      "|aaltoan01|    Antti|     Aalto|     1975|\n",
      "|abbeybr01|    Bruce|     Abbey|     1951|\n",
      "|abbotge01|   George|    Abbott|     1911|\n",
      "|abbotre01|      Reg|    Abbott|     1930|\n",
      "|abdelju01|   Justin|Abdelkader|     1987|\n",
      "+---------+---------+----------+---------+\n",
      "only showing top 5 rows\n",
      "\n"
     ]
    }
   ],
   "source": [
    "#  Load the master table\n",
    "master = spark.read.format(\"csv\").option(\"header\", \"true\").load(\"gs://data_de2023_qjsol/Master.csv\") #  use your gcp bucket name. \n",
    "\n",
    "# Only keep columns of interest\n",
    "master = master.select(\"playerID\", \"firstName\", \"lastName\", \"birthYear\")\n",
    "master.na.drop(\"any\")\n",
    "\n",
    "# Show schema\n",
    "master.printSchema()\n",
    "\n",
    "# Convert birth year from string to integer type\n",
    "master = master.withColumn(\"birthYear\", col(\"birthYear\").cast(\"int\"))\n",
    "\n",
    "# Show new schema and top 5 rows\n",
    "master.printSchema()\n",
    "master.show(5)"
   ]
  },
  {
   "cell_type": "markdown",
   "id": "357eaa47-85b6-4666-abb9-f9579fcdd476",
   "metadata": {},
   "source": [
    "### Prepare Teams Table"
   ]
  },
  {
   "cell_type": "code",
   "execution_count": 51,
   "id": "47f33a61-6418-4a93-ac76-37beb83b4558",
   "metadata": {},
   "outputs": [
    {
     "name": "stdout",
     "output_type": "stream",
     "text": [
      "root\n",
      " |-- playerID: string (nullable = true)\n",
      " |-- firstName: string (nullable = true)\n",
      " |-- lastName: string (nullable = true)\n",
      " |-- birthYear: integer (nullable = true)\n",
      "\n",
      "+---------+---------+----------+---------+\n",
      "| playerID|firstName|  lastName|birthYear|\n",
      "+---------+---------+----------+---------+\n",
      "|aaltoan01|    Antti|     Aalto|     1975|\n",
      "|abbeybr01|    Bruce|     Abbey|     1951|\n",
      "|abbotge01|   George|    Abbott|     1911|\n",
      "|abbotre01|      Reg|    Abbott|     1930|\n",
      "|abdelju01|   Justin|Abdelkader|     1987|\n",
      "+---------+---------+----------+---------+\n",
      "only showing top 5 rows\n",
      "\n"
     ]
    }
   ],
   "source": [
    "# Load the teams table\n",
    "teams = spark.read.format(\"csv\").option(\"header\", \"true\").load(\"gs://data_de2023_qjsol/Teams.csv\") #  use your gcp bucket name. \n",
    "\n",
    "# Only keep columns of interest\n",
    "teams = teams.select(\"tmID\", \"name\")\n",
    "teams.na.drop(\"any\")\n",
    "\n",
    "# Show schema and top 5 rows\n",
    "master.printSchema()\n",
    "master.show(5)"
   ]
  },
  {
   "cell_type": "code",
   "execution_count": 52,
   "id": "1aa7ce28-0a6c-4806-9378-39a3cf8804ec",
   "metadata": {},
   "outputs": [
    {
     "name": "stdout",
     "output_type": "stream",
     "text": [
      "+----+--------------------+\n",
      "|tmID|                name|\n",
      "+----+--------------------+\n",
      "| COB| Cobalt Silver Kings|\n",
      "| HAI|Haileybury Hockey...|\n",
      "| LES|       Les Canadiens|\n",
      "| MOS|  Montreal Shamrocks|\n",
      "| MOW|  Montreal Wanderers|\n",
      "| OT1|     Ottawa Senators|\n",
      "| REN|Renfrew Creamery ...|\n",
      "| MOC|  Montreal Canadiens|\n",
      "| MOW|  Montreal Wanderers|\n",
      "| OT1|     Ottawa Senators|\n",
      "| QU1|     Quebec Bulldogs|\n",
      "| REN|Renfrew Creamery ...|\n",
      "| MOC|  Montreal Canadiens|\n",
      "| MOW|  Montreal Wanderers|\n",
      "| OT1|     Ottawa Senators|\n",
      "| QU1|     Quebec Bulldogs|\n",
      "| NWR|New Westminster R...|\n",
      "| VA1|Victoria Aristocrats|\n",
      "| VML|Vancouver Million...|\n",
      "| MOC|  Montreal Canadiens|\n",
      "+----+--------------------+\n",
      "only showing top 20 rows\n",
      "\n",
      "+-------------------+----+--------+\n",
      "|               name|tmID|count(1)|\n",
      "+-------------------+----+--------+\n",
      "|Chicago Black Hawks| CHI|      60|\n",
      "| Chicago Blackhawks| CHI|      25|\n",
      "+-------------------+----+--------+\n",
      "\n"
     ]
    }
   ],
   "source": [
    "# There is a spelling error in the team names.\n",
    "# We noticed that 'Chicago Blackhawks' and 'Chicago Black Hawks' are mapped to the same team ID.\n",
    "teams.createOrReplaceTempView(\"teams\")\n",
    "teams.show()\n",
    "\n",
    "# SQL query to display that 'Chicago Blackhawks' and 'Chicago Black Hawks' are mapped to the same team ID.\n",
    "team_names = spark.sql(\"\"\"\n",
    "    SELECT name, tmID, COUNT(*) FROM teams\n",
    "    WHERE name = 'Chicago Blackhawks' OR name = 'Chicago Black Hawks'\n",
    "    GROUP BY name, tmID\n",
    "\"\"\")\n",
    "team_names.show()\n",
    "\n",
    "# Resolve spelling error in team name\n",
    "teams = teams.withColumn('name', when(col('name') == 'Chicago Blackhawks', 'Chicago Black Hawks').otherwise(col('name')))"
   ]
  },
  {
   "cell_type": "markdown",
   "id": "7743ccc9-6f1d-4cf0-a7df-f4168520b9dd",
   "metadata": {},
   "source": [
    "### Compute performance"
   ]
  },
  {
   "cell_type": "code",
   "execution_count": 53,
   "id": "6f0bae93-e532-4fe7-bc0f-b8c27e9dfc63",
   "metadata": {},
   "outputs": [
    {
     "name": "stdout",
     "output_type": "stream",
     "text": [
      "root\n",
      " |-- playerID: string (nullable = true)\n",
      " |-- tmID: string (nullable = true)\n",
      " |-- totalSA: integer (nullable = true)\n",
      " |-- totalGA: integer (nullable = true)\n",
      " |-- startYear: integer (nullable = true)\n",
      " |-- endYear: integer (nullable = true)\n",
      " |-- performance: double (nullable = true)\n",
      "\n",
      "+---------+----+-------+-------+---------+-------+-----------------+\n",
      "| playerID|tmID|totalSA|totalGA|startYear|endYear|      performance|\n",
      "+---------+----+-------+-------+---------+-------+-----------------+\n",
      "|bacasja01| STL|     10|      3|     2005|   2006|             70.0|\n",
      "|thomati01| BOS|    201|     56|     2005|   2011|72.13930348258705|\n",
      "|mcelhcu01| CAL|      4|      2|     2009|   2009|             50.0|\n",
      "|bouchbr01| PHO|      3|      0|     2005|   2005|            100.0|\n",
      "|hackema01| MIN|      5|      2|     2011|   2011|             60.0|\n",
      "+---------+----+-------+-------+---------+-------+-----------------+\n",
      "only showing top 5 rows\n",
      "\n"
     ]
    }
   ],
   "source": [
    "# Sum shots againts (SA) and goals against (GA) of each goalie in each team\n",
    "sumgoaliesShootout = goaliesShootout.groupBy(\"playerID\", \"tmID\").agg(sum(\"SA\").cast(\"int\").alias(\"totalSA\"), \n",
    "                                                                     sum(\"GA\").cast(\"int\").alias(\"totalGA\"), \n",
    "                                                                     min(\"year\").alias(\"startYear\"),\n",
    "                                                                     max(\"year\").alias(\"endYear\"))\n",
    "\n",
    "# Compute the performance (percentage of shots that resulted in a goal) for each goalie in each team\n",
    "performance = sumgoaliesShootout.withColumn(\"performance\", (lit(1) - col(\"totalGA\") / col(\"totalSA\")) * 100)\n",
    "\n",
    "performance.printSchema()\n",
    "performance.show(5)"
   ]
  },
  {
   "cell_type": "markdown",
   "id": "0fec186b-efa3-4f03-8907-772d72b49af2",
   "metadata": {},
   "source": [
    "### Top 3 goalies per team"
   ]
  },
  {
   "cell_type": "code",
   "execution_count": 54,
   "id": "1002909f-3007-4e5c-b1ae-255e2f3241af",
   "metadata": {},
   "outputs": [
    {
     "name": "stdout",
     "output_type": "stream",
     "text": [
      "+---------+----+-------+-------+---------+-------+-----------------+---------+\n",
      "| playerID|tmID|totalSA|totalGA|startYear|endYear|      performance|denseRank|\n",
      "+---------+----+-------+-------+---------+-------+-----------------+---------+\n",
      "|gigueje01| ANA|     31|     12|     2005|   2005|61.29032258064516|        1|\n",
      "|hillejo01| AND|    136|     41|     2007|   2011|69.85294117647058|        1|\n",
      "|gigueje01| AND|     89|     31|     2006|   2009| 65.1685393258427|        2|\n",
      "|bryzgil01| AND|     16|      7|     2006|   2007|            56.25|        3|\n",
      "|hedbejo01| ATL|     65|     13|     2007|   2009|             80.0|        1|\n",
      "+---------+----+-------+-------+---------+-------+-----------------+---------+\n",
      "only showing top 5 rows\n",
      "\n"
     ]
    }
   ],
   "source": [
    "# Define window: a window for each team, within each window sort on performance then on total shots against (totalSA)\n",
    "windowSpec = Window.partitionBy(\"tmID\").orderBy(col(\"performance\").desc(), col(\"totalSA\").desc())\n",
    "\n",
    "# Apply dense rank on the windows\n",
    "rankedGoalies = performance.withColumn(\"denseRank\", dense_rank().over(windowSpec))\n",
    "\n",
    "# Keep only the top three goalies in each team\n",
    "topThreeGoalies = rankedGoalies.filter(col(\"denseRank\") <= 3)\n",
    "topThreeGoalies.show(5)"
   ]
  },
  {
   "cell_type": "markdown",
   "id": "60e27c5a-ab24-4b17-9820-bd4564cc5d05",
   "metadata": {},
   "source": [
    "### Include name, age and playing years of goalie "
   ]
  },
  {
   "cell_type": "code",
   "execution_count": 55,
   "id": "81e1a2f1-653f-4920-a021-aec2db6feea8",
   "metadata": {},
   "outputs": [
    {
     "name": "stdout",
     "output_type": "stream",
     "text": [
      "+---------+----+-------+-------+---------+-------+-----------------+---------+--------------+---------+---------+\n",
      "| playerID|tmID|totalSA|totalGA|startYear|endYear|      performance|denseRank|     firstName| lastName|birthYear|\n",
      "+---------+----+-------+-------+---------+-------+-----------------+---------+--------------+---------+---------+\n",
      "|gigueje01| ANA|     31|     12|     2005|   2005|61.29032258064516|        1|Jean-Sebastien|  Giguere|     1977|\n",
      "|hillejo01| AND|    136|     41|     2007|   2011|69.85294117647058|        1|         Jonas|   Hiller|     1982|\n",
      "|gigueje01| AND|     89|     31|     2006|   2009| 65.1685393258427|        2|Jean-Sebastien|  Giguere|     1977|\n",
      "|bryzgil01| AND|     16|      7|     2006|   2007|            56.25|        3|          Ilya|Bryzgalov|     1980|\n",
      "|hedbejo01| ATL|     65|     13|     2007|   2009|             80.0|        1|         Johan|  Hedberg|     1973|\n",
      "+---------+----+-------+-------+---------+-------+-----------------+---------+--------------+---------+---------+\n",
      "only showing top 5 rows\n",
      "\n",
      "root\n",
      " |-- playerID: string (nullable = true)\n",
      " |-- tmID: string (nullable = true)\n",
      " |-- totalSA: integer (nullable = true)\n",
      " |-- totalGA: integer (nullable = true)\n",
      " |-- performance: double (nullable = true)\n",
      " |-- denseRank: integer (nullable = false)\n",
      " |-- player_name: string (nullable = true)\n",
      " |-- age: string (nullable = true)\n",
      " |-- playingYears: string (nullable = true)\n",
      "\n",
      "+---------+----+-------+-------+-----------------+---------+--------------------+-----+------------+\n",
      "| playerID|tmID|totalSA|totalGA|      performance|denseRank|         player_name|  age|playingYears|\n",
      "+---------+----+-------+-------+-----------------+---------+--------------------+-----+------------+\n",
      "|gigueje01| ANA|     31|     12|61.29032258064516|        1|Jean-Sebastien Gi...|   28|        2005|\n",
      "|hillejo01| AND|    136|     41|69.85294117647058|        1|        Jonas Hiller|25-29|   2007-2011|\n",
      "|gigueje01| AND|     89|     31| 65.1685393258427|        2|Jean-Sebastien Gi...|29-32|   2006-2009|\n",
      "|bryzgil01| AND|     16|      7|            56.25|        3|      Ilya Bryzgalov|26-27|   2006-2007|\n",
      "|hedbejo01| ATL|     65|     13|             80.0|        1|       Johan Hedberg|34-36|   2007-2009|\n",
      "+---------+----+-------+-------+-----------------+---------+--------------------+-----+------------+\n",
      "only showing top 5 rows\n",
      "\n"
     ]
    }
   ],
   "source": [
    "# Join with Master table\n",
    "result = topThreeGoalies.join(master, ['playerID'], \"left\")\n",
    "result.show(5)\n",
    "\n",
    "# Column with full name instead of separate firstName and lastName\n",
    "result = result.withColumn(\"player_name\", concat(col(\"firstName\"), lit(\" \"), col(\"lastName\"))).drop(\"firstName\").drop(\"lastName\")\n",
    "\n",
    "# Calculate age of each goalie during his/her top-performing years\n",
    "result = result.withColumn(\"startAge\", expr(\"startYear - birthYear\")).withColumn(\"endAge\", expr(\"endYear - birthYear\")).drop(\"birthYear\")\n",
    "\n",
    "# Column with age range\n",
    "result = result.withColumn(\"age\", expr(\"concat(startAge, case when startAge = endAge then '' else concat('-', endAge) end)\")).drop(\"startAge\").drop(\"endAge\")\n",
    "\n",
    "# Column with range of playing years\n",
    "result = result.withColumn(\"playingYears\", \n",
    "                           expr(\"concat(startYear, case when startYear = endYear then '' else concat('-', endYear) end)\")).drop(\"startYear\").drop(\"endYear\")\n",
    "result.printSchema()\n",
    "result.show(5)"
   ]
  },
  {
   "cell_type": "markdown",
   "id": "46e3a6b4-8679-4682-a5ae-782b80a8f4e6",
   "metadata": {},
   "source": [
    "### Include team names"
   ]
  },
  {
   "cell_type": "code",
   "execution_count": 56,
   "id": "a107f178-c887-4b22-8ca0-929a2db8ccab",
   "metadata": {},
   "outputs": [
    {
     "name": "stdout",
     "output_type": "stream",
     "text": [
      "root\n",
      " |-- tmID: string (nullable = true)\n",
      " |-- playerID: string (nullable = true)\n",
      " |-- totalSA: integer (nullable = true)\n",
      " |-- totalGA: integer (nullable = true)\n",
      " |-- performance: double (nullable = true)\n",
      " |-- denseRank: integer (nullable = false)\n",
      " |-- player_name: string (nullable = true)\n",
      " |-- age: string (nullable = true)\n",
      " |-- playingYears: string (nullable = true)\n",
      " |-- team_name: string (nullable = true)\n",
      "\n",
      "+----+---------+-------+-------+-----------------+---------+--------------------+-----+------------+--------------------+\n",
      "|tmID| playerID|totalSA|totalGA|      performance|denseRank|         player_name|  age|playingYears|           team_name|\n",
      "+----+---------+-------+-------+-----------------+---------+--------------------+-----+------------+--------------------+\n",
      "| ANA|gigueje01|     31|     12|61.29032258064516|        1|Jean-Sebastien Gi...|   28|        2005|Mighty Ducks of A...|\n",
      "| AND|hillejo01|    136|     41|69.85294117647058|        1|        Jonas Hiller|25-29|   2007-2011|       Anaheim Ducks|\n",
      "| AND|gigueje01|     89|     31| 65.1685393258427|        2|Jean-Sebastien Gi...|29-32|   2006-2009|       Anaheim Ducks|\n",
      "| AND|bryzgil01|     16|      7|            56.25|        3|      Ilya Bryzgalov|26-27|   2006-2007|       Anaheim Ducks|\n",
      "| ATL|hedbejo01|     65|     13|             80.0|        1|       Johan Hedberg|34-36|   2007-2009|   Atlanta Thrashers|\n",
      "| ATL|masonch02|     17|      4|76.47058823529412|        2|         Chris Mason|   34|        2010|   Atlanta Thrashers|\n",
      "| ATL|lehtoka01|     90|     23|74.44444444444444|        3|       Kari Lehtonen|22-25|   2005-2008|   Atlanta Thrashers|\n",
      "| BOS|thomati01|    201|     56|72.13930348258705|        1|          Tim Thomas|31-37|   2005-2011|       Boston Bruins|\n",
      "| BOS| auldal01|     15|      5|66.66666666666667|        2|           Alex Auld|   26|        2007|       Boston Bruins|\n",
      "| BOS|fernama01|     12|      4|66.66666666666667|        3|     Manny Fernandez|33-34|   2007-2008|       Boston Bruins|\n",
      "| BUF|thibajo01|     10|      3|             70.0|        1|    Jocelyn Thibault|   32|        2007|      Buffalo Sabres|\n",
      "| BUF|millery01|    209|     63|69.85645933014354|        2|         Ryan Miller|25-31|   2005-2011|      Buffalo Sabres|\n",
      "| BUF|enrotjh01|     41|     13|68.29268292682926|        3|       Jhonas Enroth|22-23|   2010-2011|      Buffalo Sabres|\n",
      "| CAL|sauveph01|      3|      0|            100.0|        1|      Philippe Sauve|   25|        2005|      Calgary Flames|\n",
      "| CAL|mclenja01|     11|      4|63.63636363636363|        2|      Jamie McLennan|   35|        2006|      Calgary Flames|\n",
      "| CAL|kiprumi01|    178|     70|60.67415730337078|        3|    Miikka Kiprusoff|29-35|   2005-2011|      Calgary Flames|\n",
      "| CAR|legacma01|     16|      4|             75.0|        1|        Manny Legace|   36|        2009| Carolina Hurricanes|\n",
      "| CAR|gerbema01|     33|     10| 69.6969696969697|        2|       Martin Gerber|   31|        2005| Carolina Hurricanes|\n",
      "| CAR|leighmi01|      8|      3|             62.5|        3|    Michael Leighton|27-28|   2008-2009| Carolina Hurricanes|\n",
      "| CBS|prusema01|      8|      1|             87.5|        1|       Martin Prusek|   30|        2005|Columbus Blue Jac...|\n",
      "+----+---------+-------+-------+-----------------+---------+--------------------+-----+------------+--------------------+\n",
      "only showing top 20 rows\n",
      "\n"
     ]
    }
   ],
   "source": [
    "# Join with Teams table\n",
    "result = result.join(teams, ['tmID'], \"left\")\n",
    "\n",
    "# Rename column for clarity\n",
    "result = result.withColumnRenamed(\"name\", \"team_name\")\n",
    "\n",
    "# Drop duplicates due to many to many relationship of result and teams table\n",
    "result = result.dropDuplicates()\n",
    "\n",
    "result.printSchema()\n",
    "result.show()"
   ]
  },
  {
   "cell_type": "markdown",
   "id": "8e1c118c-4663-4ca9-b3ed-ee79a22da0e8",
   "metadata": {},
   "source": [
    "## Store the result in BigQuery"
   ]
  },
  {
   "cell_type": "code",
   "execution_count": 57,
   "id": "fe5eb434-ecf1-4640-8472-c06a3fd0995d",
   "metadata": {},
   "outputs": [],
   "source": [
    "# Use the Cloud Storage bucket for temporary BigQuery export data used by the connector.\n",
    "bucket = \"data_de2023_qjsol\"  # use your bucket \n",
    "spark.conf.set('temporaryGcsBucket', bucket)\n",
    "\n",
    "# Saving the data to BigQuery\n",
    "result.write.format('bigquery').option('table', 'dataengineering2023-398611.assignment2.goalies').mode(\"append\").save() # use your project-id"
   ]
  },
  {
   "cell_type": "code",
   "execution_count": 58,
   "id": "a65c93cf-5c55-41f2-9d99-8bc0b7ff9f43",
   "metadata": {},
   "outputs": [],
   "source": [
    "# Stop the spark context\n",
    "spark.stop()"
   ]
  }
 ],
 "metadata": {
  "kernelspec": {
   "display_name": "Python 3 (ipykernel)",
   "language": "python",
   "name": "python3"
  },
  "language_info": {
   "codemirror_mode": {
    "name": "ipython",
    "version": 3
   },
   "file_extension": ".py",
   "mimetype": "text/x-python",
   "name": "python",
   "nbconvert_exporter": "python",
   "pygments_lexer": "ipython3",
   "version": "3.11.6"
  }
 },
 "nbformat": 4,
 "nbformat_minor": 5
}
